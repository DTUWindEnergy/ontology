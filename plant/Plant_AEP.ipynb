{
 "cells": [
  {
   "cell_type": "markdown",
   "metadata": {},
   "source": [
    "## AEP calculation\n",
    "\n",
    "\n",
    "$$AEP = \\sum_{wt=0}^{N}\\sum_{wd_{ref}=0}^{360}\\sum_{ws = cut{\\text -}in}^{cut{\\text -}out} Power \\cdot Weight$$\n",
    "\n",
    "$$Power = PowerCurve_{wt}\\left(LocalWind,\\theta_{yaw}\\right)\\cdot \\frac{\\rho}{\\rho_{ref}}$$\n",
    "\n",
    "$$\\begin{align}LocalWind = WS \\cdot SpeedUp - WakeDeficits\\end{align}$$\n",
    "\n",
    "$$  Weight=\\begin{cases}\n",
    "    P, & \\text{if $P$ is provided}.\\\\\n",
    "    f \\cdot Weibull(A,k,ws), & \\text{otherwise}.\n",
    "  \\end{cases}$$\n",
    "\n",
    "Where \n",
    "\n",
    "- $wt$: wind turbine\n",
    "- $wd$: reference wind direction\n",
    "- $ws$: reference wind speed\n",
    "- $\\theta_{yaw}$: yaw missalignment of the wind turbine\n",
    "- $PowerCurve_{wt}$: the wind-speed and yaw-misalignment dependent power curve of the wind turbine\n",
    "- $WakeDeficits$: Deficits from other wind turbines\n",
    "\n",
    "\n",
    "Required data variables:\n",
    "\n",
    "- $P$: Probability of flow case\n",
    "\n",
    "or\n",
    "\n",
    "- $f$: Sector probability\n",
    "- $A$: Weibull scale parameter\n",
    "- $k$: Weibull shape parameter\n",
    "\n",
    "Optional data variables:\n",
    "\n",
    "- $WS$: Wind speed, defaults to reference wind speed, $ws$\n",
    "- $SpeedUp$: Speed up factor, defaults to 1\n",
    "- $\\rho$: Air density, defaults to reference density, $\\rho_{ref}$\n",
    "\n",
    "\n",
    "These required and optional data varaibles may be constant or dependent on any of\n",
    "- $ws$ \n",
    "- $wd$\n",
    "- $position$ in terms of\n",
    "  - gridded 2D position, (x,y)\n",
    "  - gridded 3D position, (x,y,z)\n",
    "  - wt position"
   ]
  },
  {
   "cell_type": "code",
   "execution_count": null,
   "metadata": {},
   "outputs": [],
   "source": []
  }
 ],
 "metadata": {
  "kernelspec": {
   "display_name": "Python 3",
   "language": "python",
   "name": "python3"
  },
  "language_info": {
   "codemirror_mode": {
    "name": "ipython",
    "version": 3
   },
   "file_extension": ".py",
   "mimetype": "text/x-python",
   "name": "python",
   "nbconvert_exporter": "python",
   "pygments_lexer": "ipython3",
   "version": "3.8.2"
  },
  "toc": {
   "base_numbering": 1,
   "nav_menu": {},
   "number_sections": true,
   "sideBar": true,
   "skip_h1_title": false,
   "title_cell": "Table of Contents",
   "title_sidebar": "Contents",
   "toc_cell": false,
   "toc_position": {},
   "toc_section_display": true,
   "toc_window_display": true
  }
 },
 "nbformat": 4,
 "nbformat_minor": 4
}
